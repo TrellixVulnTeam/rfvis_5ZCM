{
 "cells": [
  {
   "cell_type": "code",
   "execution_count": null,
   "metadata": {},
   "outputs": [
    {
     "data": {
      "text/plain": [
       "RandomForestClassifier(bootstrap=True, class_weight=None, criterion='gini',\n",
       "            max_depth=None, max_features='auto', max_leaf_nodes=None,\n",
       "            min_impurity_decrease=0.0, min_impurity_split=None,\n",
       "            min_samples_leaf=1, min_samples_split=2,\n",
       "            min_weight_fraction_leaf=0.0, n_estimators=10, n_jobs=None,\n",
       "            oob_score=False, random_state=None, verbose=0,\n",
       "            warm_start=False)"
      ]
     },
     "execution_count": 48,
     "metadata": {},
     "output_type": "execute_result"
    }
   ],
   "source": [
    "import numpy as np\n",
    "\n",
    "from sklearn.model_selection import train_test_split\n",
    "from sklearn.datasets import load_iris\n",
    "from sklearn.ensemble import RandomForestClassifier\n",
    "\n",
    "iris = load_iris()\n",
    "X = iris.data\n",
    "y = iris.target\n",
    "X_train, X_test, y_train, y_test = train_test_split(X, y, random_state=0)\n",
    "\n",
    "model = RandomForestClassifier(n_estimators=10)\n",
    "model.fit(X_train, y_train)"
   ]
  },
  {
   "cell_type": "code",
   "execution_count": 50,
   "metadata": {},
   "outputs": [
    {
     "name": "stdout",
     "output_type": "stream",
     "text": [
      "id,height,impurity,n_node_samples,value\n",
      "0,0,0.6650191326530612,78,\"[41,36,35]\"\n",
      "1,1,0.18374999999999997,29,\"[36,3,1]\"\n",
      "2,2,0.375,3,\"[0,3,1]\"\n",
      "3,3,0.0,2,\"[0,3,0]\"\n",
      "4,3,0.0,1,\"[0,0,1]\"\n",
      "5,2,0.0,26,\"[36,0,0]\"\n",
      "6,1,0.5621141975308642,49,\"[5,33,34]\"\n",
      "7,2,0.3319452706722189,27,\"[5,33,3]\"\n",
      "8,3,0.0,3,\"[5,0,0]\"\n",
      "9,3,0.1527777777777778,24,\"[0,33,3]\"\n",
      "10,4,0.48,2,\"[0,3,2]\"\n",
      "11,5,0.0,1,\"[0,0,2]\"\n",
      "12,5,0.0,1,\"[0,3,0]\"\n",
      "13,4,0.06243496357960454,22,\"[0,30,1]\"\n",
      "14,5,0.0,21,\"[0,30,0]\"\n",
      "15,5,0.0,1,\"[0,0,1]\"\n",
      "16,2,0.0,22,\"[0,0,31]\"\n",
      "id,height,impurity,n_node_samples,value\n",
      "0,0,0.6656568877551021,68,\"[37,35,40]\"\n",
      "1,1,0.2725797728501893,23,\"[36,7,0]\"\n",
      "2,2,0.0,20,\"[36,0,0]\"\n",
      "3,2,0.0,3,\"[0,7,0]\"\n",
      "4,1,0.499054820415879,45,\"[1,28,40]\"\n",
      "5,2,0.4786680541103018,20,\"[1,20,10]\"\n",
      "6,3,0.09499999999999997,14,\"[1,19,0]\"\n",
      "7,4,0.0,1,\"[1,0,0]\"\n",
      "8,4,0.0,13,\"[0,19,0]\"\n",
      "9,3,0.1652892561983471,6,\"[0,1,10]\"\n",
      "10,4,0.0,4,\"[0,0,9]\"\n",
      "11,4,0.5,2,\"[0,1,1]\"\n",
      "12,5,0.0,1,\"[0,1,0]\"\n",
      "13,5,0.0,1,\"[0,0,1]\"\n",
      "14,2,0.332409972299169,25,\"[0,8,30]\"\n",
      "15,3,0.0,6,\"[0,8,0]\"\n",
      "16,3,0.0,19,\"[0,0,30]\"\n",
      "id,height,impurity,n_node_samples,value\n",
      "0,0,0.6395089285714286,75,\"[27,33,52]\"\n",
      "1,1,0.4986149584487535,40,\"[27,30,0]\"\n",
      "2,2,0.0,19,\"[27,0,0]\"\n",
      "3,2,0.0,21,\"[0,30,0]\"\n",
      "4,1,0.10314049586776863,35,\"[0,3,52]\"\n",
      "5,2,0.375,4,\"[0,1,3]\"\n",
      "6,3,0.0,1,\"[0,1,0]\"\n",
      "7,3,0.0,3,\"[0,0,3]\"\n",
      "8,2,0.07535563244905807,31,\"[0,2,49]\"\n",
      "9,3,0.4444444444444444,3,\"[0,1,2]\"\n",
      "10,4,0.0,1,\"[0,1,0]\"\n",
      "11,4,0.0,2,\"[0,0,2]\"\n",
      "12,3,0.04079861111111116,28,\"[0,1,47]\"\n",
      "13,4,0.5,2,\"[0,1,1]\"\n",
      "14,5,0.0,1,\"[0,1,0]\"\n",
      "15,5,0.0,1,\"[0,0,1]\"\n",
      "16,4,0.0,26,\"[0,0,46]\"\n",
      "id,height,impurity,n_node_samples,value\n",
      "0,0,0.6624681122448979,73,\"[33,36,43]\"\n",
      "1,1,0.0,23,\"[33,0,0]\"\n",
      "2,1,0.49607434705976605,50,\"[0,36,43]\"\n",
      "3,2,0.1840894148586456,24,\"[0,35,4]\"\n",
      "4,3,0.0,17,\"[0,29,0]\"\n",
      "5,3,0.48,7,\"[0,6,4]\"\n",
      "6,4,0.0,4,\"[0,6,0]\"\n",
      "7,4,0.0,3,\"[0,0,4]\"\n",
      "8,2,0.04874999999999996,26,\"[0,1,39]\"\n",
      "9,3,0.31999999999999995,3,\"[0,1,4]\"\n",
      "10,4,0.5,2,\"[0,1,1]\"\n",
      "11,5,0.0,1,\"[0,0,1]\"\n",
      "12,5,0.0,1,\"[0,1,0]\"\n",
      "13,4,0.0,1,\"[0,0,3]\"\n",
      "14,3,0.0,23,\"[0,0,35]\"\n",
      "id,height,impurity,n_node_samples,value\n",
      "0,0,0.6428571428571428,70,\"[40,24,48]\"\n",
      "1,1,0.0,26,\"[40,0,0]\"\n",
      "2,1,0.4444444444444444,44,\"[0,24,48]\"\n",
      "3,2,0.1472,17,\"[0,23,2]\"\n",
      "4,3,0.5,2,\"[0,1,1]\"\n",
      "5,4,0.0,1,\"[0,1,0]\"\n",
      "6,4,0.0,1,\"[0,0,1]\"\n",
      "7,3,0.08317580340264652,15,\"[0,22,1]\"\n",
      "8,4,0.0,14,\"[0,22,0]\"\n",
      "9,4,0.0,1,\"[0,0,1]\"\n",
      "10,2,0.041647804436396596,27,\"[0,1,46]\"\n",
      "11,3,0.4444444444444444,2,\"[0,1,2]\"\n",
      "12,4,0.0,1,\"[0,1,0]\"\n",
      "13,4,0.0,1,\"[0,0,2]\"\n",
      "14,3,0.0,25,\"[0,0,44]\"\n",
      "id,height,impurity,n_node_samples,value\n",
      "0,0,0.6536989795918368,76,\"[38,28,46]\"\n",
      "1,1,0.0,27,\"[38,0,0]\"\n",
      "2,1,0.47041636230825423,49,\"[0,28,46]\"\n",
      "3,2,0.375,15,\"[0,18,6]\"\n",
      "4,3,0.18000000000000005,12,\"[0,18,2]\"\n",
      "5,4,0.0,10,\"[0,17,0]\"\n",
      "6,4,0.4444444444444444,2,\"[0,1,2]\"\n",
      "7,5,0.0,1,\"[0,0,2]\"\n",
      "8,5,0.0,1,\"[0,1,0]\"\n",
      "9,3,0.0,3,\"[0,0,4]\"\n",
      "10,2,0.31999999999999995,34,\"[0,10,40]\"\n",
      "11,3,0.46875,12,\"[0,10,6]\"\n",
      "12,4,0.0,5,\"[0,5,0]\"\n",
      "13,4,0.49586776859504134,7,\"[0,5,6]\"\n",
      "14,5,0.0,3,\"[0,4,0]\"\n",
      "15,5,0.24489795918367352,4,\"[0,1,6]\"\n",
      "16,6,0.0,2,\"[0,0,4]\"\n",
      "17,6,0.4444444444444444,2,\"[0,1,2]\"\n",
      "18,7,0.0,1,\"[0,1,0]\"\n",
      "19,7,0.0,1,\"[0,0,2]\"\n",
      "20,3,0.0,22,\"[0,0,34]\"\n",
      "id,height,impurity,n_node_samples,value\n",
      "0,0,0.6634247448979591,75,\"[42,37,33]\"\n",
      "1,1,0.0,27,\"[42,0,0]\"\n",
      "2,1,0.4983673469387755,48,\"[0,37,33]\"\n",
      "3,2,0.18000000000000005,25,\"[0,36,4]\"\n",
      "4,3,0.0,23,\"[0,36,0]\"\n",
      "5,3,0.0,2,\"[0,0,4]\"\n",
      "6,2,0.06444444444444442,23,\"[0,1,29]\"\n",
      "7,3,0.5,2,\"[0,1,1]\"\n",
      "8,4,0.0,1,\"[0,0,1]\"\n",
      "9,4,0.0,1,\"[0,1,0]\"\n",
      "10,3,0.0,21,\"[0,0,28]\"\n",
      "id,height,impurity,n_node_samples,value\n",
      "0,0,0.6283482142857143,66,\"[26,31,55]\"\n",
      "1,1,0.530321046373365,38,\"[26,30,2]\"\n",
      "2,2,0.0,16,\"[26,0,0]\"\n",
      "3,2,0.1171875,22,\"[0,30,2]\"\n",
      "4,3,0.0,17,\"[0,26,0]\"\n",
      "5,3,0.4444444444444444,5,\"[0,4,2]\"\n",
      "6,4,0.0,1,\"[0,1,0]\"\n",
      "7,4,0.48,4,\"[0,3,2]\"\n",
      "8,5,0.0,1,\"[0,0,1]\"\n",
      "9,5,0.375,3,\"[0,3,1]\"\n",
      "10,6,0.0,2,\"[0,3,0]\"\n",
      "11,6,0.0,1,\"[0,0,1]\"\n",
      "12,1,0.036351165980795574,28,\"[0,1,53]\"\n",
      "13,2,0.18000000000000005,6,\"[0,1,9]\"\n",
      "14,3,0.0,1,\"[0,1,0]\"\n",
      "15,3,0.0,5,\"[0,0,9]\"\n",
      "16,2,0.0,22,\"[0,0,44]\"\n",
      "id,height,impurity,n_node_samples,value\n",
      "0,0,0.6618303571428572,72,\"[37,32,43]\"\n",
      "1,1,0.0,23,\"[37,0,0]\"\n",
      "2,1,0.4892444444444445,49,\"[0,32,43]\"\n",
      "3,2,0.1652892561983471,20,\"[0,30,3]\"\n",
      "4,3,0.42000000000000004,7,\"[0,7,3]\"\n",
      "5,4,0.0,5,\"[0,6,0]\"\n",
      "6,4,0.375,2,\"[0,1,3]\"\n",
      "7,5,0.0,1,\"[0,1,0]\"\n",
      "8,5,0.0,1,\"[0,0,3]\"\n",
      "9,3,0.0,13,\"[0,23,0]\"\n",
      "10,2,0.09070294784580502,29,\"[0,2,40]\"\n",
      "11,3,0.48,4,\"[0,2,3]\"\n",
      "12,4,0.0,2,\"[0,2,0]\"\n",
      "13,4,0.0,2,\"[0,0,3]\"\n",
      "14,3,0.0,25,\"[0,0,37]\"\n",
      "id,height,impurity,n_node_samples,value\n",
      "0,0,0.6647002551020409,70,\"[37,34,41]\"\n",
      "1,1,0.18500000000000005,24,\"[36,2,2]\"\n",
      "2,2,0.0,22,\"[36,0,0]\"\n",
      "3,2,0.5,2,\"[0,2,2]\"\n",
      "4,3,0.0,1,\"[0,2,0]\"\n",
      "5,3,0.0,1,\"[0,0,2]\"\n",
      "6,1,0.5088734567901234,46,\"[1,32,39]\"\n",
      "7,2,0.373015873015873,28,\"[1,32,9]\"\n",
      "8,3,0.16896235078053257,21,\"[1,30,2]\"\n",
      "9,4,0.1171875,20,\"[0,30,2]\"\n",
      "10,5,0.0,18,\"[0,26,0]\"\n",
      "11,5,0.4444444444444444,2,\"[0,4,2]\"\n",
      "12,6,0.0,1,\"[0,0,2]\"\n",
      "13,6,0.0,1,\"[0,4,0]\"\n",
      "14,4,0.0,1,\"[1,0,0]\"\n",
      "15,3,0.345679012345679,7,\"[0,2,7]\"\n",
      "16,4,0.48,4,\"[0,2,3]\"\n",
      "17,5,0.0,2,\"[0,2,0]\"\n",
      "18,5,0.0,2,\"[0,0,3]\"\n",
      "19,4,0.0,3,\"[0,0,4]\"\n",
      "20,2,0.0,18,\"[0,0,30]\"\n"
     ]
    }
   ],
   "source": [
    "import numpy as np\n",
    "\n",
    "for estimator in model.estimators_:\n",
    "    n_nodes = estimator.tree_.node_count\n",
    "    children_left = estimator.tree_.children_left\n",
    "    children_right = estimator.tree_.children_right\n",
    "\n",
    "    # The tree structure can be traversed to compute various properties such\n",
    "    # as the depth of each node and whether or not it is a leaf.\n",
    "    node_depth = np.zeros(shape=n_nodes, dtype=np.int64)\n",
    "    stack = [(0, -1)]  # seed is the root node id and its parent depth\n",
    "    while len(stack) > 0:\n",
    "        node_id, parent_depth = stack.pop()\n",
    "        node_depth[node_id] = parent_depth + 1\n",
    "        if (children_left[node_id] != children_right[node_id]):\n",
    "            stack.append((children_left[node_id], parent_depth + 1))\n",
    "            stack.append((children_right[node_id], parent_depth + 1))\n",
    "    \n",
    "    print(\"id,height,impurity,n_node_samples,value\")\n",
    "\n",
    "    # feature, threshold, drop-of-impurity, ...\n",
    "    for i in range(n_nodes):\n",
    "        value = [str(int(v)) for v in estimator.tree_.value[i][0]]\n",
    "        els = [i, \n",
    "               node_depth[i], \n",
    "               estimator.tree_.impurity[i], \n",
    "               estimator.tree_.n_node_samples[i], \n",
    "               \"\\\"[{}]\\\"\".format(\",\".join(value))]\n",
    "        print(\",\".join([str(el) for el in els]))"
   ]
  },
  {
   "cell_type": "code",
   "execution_count": 51,
   "metadata": {},
   "outputs": [
    {
     "data": {
      "text/plain": [
       "DecisionTreeClassifier(class_weight=None, criterion='gini', max_depth=None,\n",
       "            max_features='auto', max_leaf_nodes=None,\n",
       "            min_impurity_decrease=0.0, min_impurity_split=None,\n",
       "            min_samples_leaf=1, min_samples_split=2,\n",
       "            min_weight_fraction_leaf=0.0, presort=False,\n",
       "            random_state=29205430, splitter='best')"
      ]
     },
     "execution_count": 51,
     "metadata": {},
     "output_type": "execute_result"
    }
   ],
   "source": [
    "model.estimators_[0]\n",
    "# criterion (gini) \n",
    "# splitter (best)\n",
    "# https://scikit-learn.org/stable/modules/generated/sklearn.tree.DecisionTreeClassifier.html \n",
    "\n",
    "# classes_\n",
    "# n_classes_\n",
    "# feature_importances_\n",
    "# n_features_\n",
    "# n_outputs_\n",
    "\n",
    "\n",
    "# oob_score_"
   ]
  },
  {
   "cell_type": "code",
   "execution_count": 52,
   "metadata": {},
   "outputs": [
    {
     "name": "stdout",
     "output_type": "stream",
     "text": [
      "0.9210526315789473\n",
      "0.9736842105263158\n",
      "0.9736842105263158\n",
      "0.9473684210526315\n",
      "0.9736842105263158\n",
      "0.9210526315789473\n",
      "0.9736842105263158\n",
      "0.8947368421052632\n",
      "0.9736842105263158\n",
      "0.9210526315789473\n"
     ]
    }
   ],
   "source": [
    "for e in model.estimators_:\n",
    "    print(e.score(X_test, y_test))"
   ]
  },
  {
   "cell_type": "code",
   "execution_count": 53,
   "metadata": {},
   "outputs": [
    {
     "data": {
      "text/plain": [
       "0.9736842105263158"
      ]
     },
     "execution_count": 53,
     "metadata": {},
     "output_type": "execute_result"
    }
   ],
   "source": [
    "model.score(X_test, y_test)"
   ]
  },
  {
   "cell_type": "code",
   "execution_count": 36,
   "metadata": {},
   "outputs": [
    {
     "data": {
      "text/plain": [
       "array([2, 1, 0, 2, 0, 2, 0, 1, 1, 1, 2, 1, 1, 1, 1, 0, 1, 1, 0, 0, 2, 1,\n",
       "       0, 0, 2, 0, 0, 1, 1, 0, 2, 1, 0, 2, 2, 1, 0, 1])"
      ]
     },
     "execution_count": 36,
     "metadata": {},
     "output_type": "execute_result"
    }
   ],
   "source": [
    "y_test"
   ]
  }
 ],
 "metadata": {
  "kernelspec": {
   "display_name": "Python 3",
   "language": "python",
   "name": "python3"
  },
  "language_info": {
   "codemirror_mode": {
    "name": "ipython",
    "version": 3
   },
   "file_extension": ".py",
   "mimetype": "text/x-python",
   "name": "python",
   "nbconvert_exporter": "python",
   "pygments_lexer": "ipython3",
   "version": "3.7.1"
  }
 },
 "nbformat": 4,
 "nbformat_minor": 2
}
